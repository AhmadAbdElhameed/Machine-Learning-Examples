{
 "cells": [
  {
   "cell_type": "code",
   "execution_count": 1,
   "metadata": {},
   "outputs": [],
   "source": [
    "import numpy as np"
   ]
  },
  {
   "cell_type": "code",
   "execution_count": 2,
   "metadata": {},
   "outputs": [],
   "source": [
    "import matplotlib.pyplot as plt"
   ]
  },
  {
   "cell_type": "code",
   "execution_count": 3,
   "metadata": {},
   "outputs": [],
   "source": [
    "from scipy.stats import norm "
   ]
  },
  {
   "cell_type": "code",
   "execution_count": 4,
   "metadata": {},
   "outputs": [],
   "source": [
    "B = 200\n",
    "N = 20\n",
    "X = np.random.randn(N)"
   ]
  },
  {
   "cell_type": "code",
   "execution_count": 5,
   "metadata": {},
   "outputs": [
    {
     "name": "stdout",
     "output_type": "stream",
     "text": [
      "mean of X :  0.03472839414537038\n"
     ]
    }
   ],
   "source": [
    "print(\"mean of X : \",np.mean(X))"
   ]
  },
  {
   "cell_type": "code",
   "execution_count": 7,
   "metadata": {},
   "outputs": [],
   "source": [
    "individual_estimates = np.empty(B)"
   ]
  },
  {
   "cell_type": "code",
   "execution_count": 10,
   "metadata": {},
   "outputs": [],
   "source": [
    "for b in range(B):\n",
    "    sample = np.random.choice(X,size = N)\n",
    "    individual_estimates[b] = sample.mean()"
   ]
  },
  {
   "cell_type": "code",
   "execution_count": 12,
   "metadata": {},
   "outputs": [],
   "source": [
    "b_mean = individual_estimates.mean()\n",
    "b_std = individual_estimates.std()\n",
    "lower = b_mean + norm.ppf(0.025) * b_std\n",
    "upper = b_mean + norm.ppf(0.975) * b_std"
   ]
  },
  {
   "cell_type": "code",
   "execution_count": 14,
   "metadata": {},
   "outputs": [],
   "source": [
    "lower_2 = X.mean()+norm.ppf(0.025) * X.std()/np.sqrt(N)\n",
    "upper_2 = X.mean()+norm.ppf(0.975) * X.std()/np.sqrt(N)"
   ]
  },
  {
   "cell_type": "code",
   "execution_count": 13,
   "metadata": {},
   "outputs": [
    {
     "name": "stdout",
     "output_type": "stream",
     "text": [
      "bootstrap mean of X :  0.05142086667613136\n"
     ]
    }
   ],
   "source": [
    "print(\"bootstrap mean of X : \" , b_mean)"
   ]
  },
  {
   "cell_type": "code",
   "execution_count": 15,
   "metadata": {},
   "outputs": [
    {
     "data": {
      "image/png": "[encoded data removed]",
      "text/plain": [
       "<Figure size 432x288 with 1 Axes>"
      ]
     },
     "metadata": {
      "needs_background": "light"
     },
     "output_type": "display_data"
    }
   ],
   "source": [
    "plt.hist(individual_estimates,bins=20)\n",
    "plt.axvline(x = lower , linestyle='--',color='g',label='lower bound for 95% confedance interval (bootstrap)')\n",
    "plt.axvline(x = upper , linestyle='--',color='g',label='lower bound for 95% confedance interval (bootstrap)')\n",
    "plt.axvline(x = lower_2 , linestyle='--',color='r',label='lower bound for 95% confedance interval')\n",
    "plt.axvline(x = upper_2 , linestyle='--',color='r',label='lower bound for 95% confedance interval')\n",
    "plt.legend()\n",
    "plt.show()"
   ]
  },
  {
   "cell_type": "code",
   "execution_count": null,
   "metadata": {},
   "outputs": [],
   "source": []
  }
 ],
 "metadata": {
  "kernelspec": {
   "display_name": "Python 3",
   "language": "python",
   "name": "python3"
  },
  "language_info": {
   "codemirror_mode": {
    "name": "ipython",
    "version": 3
   },
   "file_extension": ".py",
   "mimetype": "text/x-python",
   "name": "python",
   "nbconvert_exporter": "python",
   "pygments_lexer": "ipython3",
   "version": "3.7.4"
  }
 },
 "nbformat": 4,
 "nbformat_minor": 2
}
